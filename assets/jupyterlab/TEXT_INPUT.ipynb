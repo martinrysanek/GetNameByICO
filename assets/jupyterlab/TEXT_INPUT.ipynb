{
 "cells": [
  {
   "cell_type": "code",
   "execution_count": 2,
   "metadata": {},
   "outputs": [
    {
     "data": {
      "application/vnd.jupyter.widget-view+json": {
       "model_id": "4b6f6afbc0a7409eb0ddc305d79022ef",
       "version_major": 2,
       "version_minor": 0
      },
      "text/plain": [
       "HTML(value='<h1>Get Company Name by ICO</h1>')"
      ]
     },
     "metadata": {},
     "output_type": "display_data"
    },
    {
     "data": {
      "application/vnd.jupyter.widget-view+json": {
       "model_id": "fd394288db80484d8848dd77c74532ec",
       "version_major": 2,
       "version_minor": 0
      },
      "text/plain": [
       "HTML(value='<h2>Give me company ICO (e.g. 14890992):</h2>')"
      ]
     },
     "metadata": {},
     "output_type": "display_data"
    },
    {
     "data": {
      "application/vnd.jupyter.widget-view+json": {
       "model_id": "38b794e65b374f38a94ad1dc6193b212",
       "version_major": 2,
       "version_minor": 0
      },
      "text/plain": [
       "Text(value='', placeholder='Company ICO (a number)')"
      ]
     },
     "metadata": {},
     "output_type": "display_data"
    },
    {
     "data": {
      "application/vnd.jupyter.widget-view+json": {
       "model_id": "577c35d34cd64d98a89532004cd91f26",
       "version_major": 2,
       "version_minor": 0
      },
      "text/plain": [
       "Button(description='Confirm', style=ButtonStyle())"
      ]
     },
     "metadata": {},
     "output_type": "display_data"
    },
    {
     "data": {
      "application/vnd.jupyter.widget-view+json": {
       "model_id": "b470818784c147399ee997298a0fd6b3",
       "version_major": 2,
       "version_minor": 0
      },
      "text/plain": [
       "Output()"
      ]
     },
     "metadata": {},
     "output_type": "display_data"
    }
   ],
   "source": [
    "import ipywidgets as widgets\n",
    "from IPython.display import display\n",
    "\n",
    "import pandas as pd\n",
    "from botocore.client import Config\n",
    "import ibm_boto3\n",
    "import numpy as np\n",
    "import requests\n",
    "\n",
    "from bs4 import BeautifulSoup\n",
    "from ipywidgets import widgets\n",
    "\n",
    "display(widgets.HTML(\"<h1>Get Company Name by ICO</h1>\"))\n",
    "\n",
    "def GetName(ICO):\n",
    "    df = pd.read_csv('/project_data/data_asset/ICOdata.csv')\n",
    "    \n",
    "    #XML_elements = ['OF','ICO','DIC','UC','PB','NS']\n",
    "    XML_elements = df.columns\n",
    "    row=dict()\n",
    "    \n",
    "    # api-endpoint \n",
    "    URL = \"https://wwwinfo.mfcr.cz/cgi-bin/ares/darv_bas.cgi\"\n",
    "    PARAMS = {'ico': ICO} \n",
    "\n",
    "    # sending get request and saving the response as response object \n",
    "    response = requests.get(url = URL, params = PARAMS) \n",
    "    response.encoding='utf-8'\n",
    "\n",
    "    soup = BeautifulSoup(response.text, \"lxml-xml\")\n",
    "\n",
    "    for element in XML_elements:\n",
    "        if (element):\n",
    "            anchor = soup.find(element)\n",
    "            if (anchor != None):\n",
    "                print(\"[{}] = {}\".format(element, anchor.text))\n",
    "                row.update({element : [anchor.text]})\n",
    "\n",
    "    newDf = pd.DataFrame.from_dict(row)\n",
    "    df=df.append(newDf)\n",
    "    df.drop_duplicates(subset=['OF'],keep='first', inplace=True)\n",
    "    df.head(20)\n",
    "\n",
    "    #STORE DATA \n",
    "    df.to_csv('/project_data/data_asset/ICOdata.csv', index=False)\n",
    "    \n",
    "    \n",
    "html=widgets.HTML(value=\"<h2>Give me company ICO (e.g. 14890992):</h2>\")\n",
    "\n",
    "text=widgets.Text(\n",
    "    placeholder='Company ICO (a number)',\n",
    "    disabled=False\n",
    ")\n",
    "button=widgets.Button(\n",
    "    description='Confirm'\n",
    ")\n",
    "output = widgets.Output()\n",
    "display(html,text, button, output)\n",
    "\n",
    "def on_button_clicked(b):\n",
    "    with output:\n",
    "        print(\"-------------------------------------------------\")\n",
    "        print(\"Company ICO:\", text.value)\n",
    "        GetName(text.value)\n",
    "\n",
    "button.on_click(on_button_clicked)\n",
    "\n"
   ]
  },
  {
   "cell_type": "code",
   "execution_count": null,
   "metadata": {},
   "outputs": [],
   "source": []
  }
 ],
 "metadata": {
  "kernelspec": {
   "display_name": "Python 3.6",
   "language": "python",
   "name": "python3"
  },
  "language_info": {
   "codemirror_mode": {
    "name": "ipython",
    "version": 3
   },
   "file_extension": ".py",
   "mimetype": "text/x-python",
   "name": "python",
   "nbconvert_exporter": "python",
   "pygments_lexer": "ipython3",
   "version": "3.6.8"
  }
 },
 "nbformat": 4,
 "nbformat_minor": 4
}
