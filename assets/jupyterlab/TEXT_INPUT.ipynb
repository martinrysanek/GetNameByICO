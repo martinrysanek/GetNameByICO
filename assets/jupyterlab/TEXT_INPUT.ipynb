{
 "cells": [
  {
   "cell_type": "code",
   "execution_count": 1,
   "metadata": {
    "jupyter": {
     "source_hidden": true
    }
   },
   "outputs": [
    {
     "data": {
      "application/vnd.jupyter.widget-view+json": {
       "model_id": "ad4a03d4f5a24dbab3c02fac33979f56",
       "version_major": 2,
       "version_minor": 0
      },
      "text/plain": [
       "HTML(value='<h1>Get Company Name by ICO</h1>')"
      ]
     },
     "metadata": {},
     "output_type": "display_data"
    },
    {
     "data": {
      "application/vnd.jupyter.widget-view+json": {
       "model_id": "12b7102afd50444498a1d6b487dbe969",
       "version_major": 2,
       "version_minor": 0
      },
      "text/plain": [
       "HTML(value='<h2>Give me company ICO (e.g. 14890992):</h2>')"
      ]
     },
     "metadata": {},
     "output_type": "display_data"
    },
    {
     "data": {
      "application/vnd.jupyter.widget-view+json": {
       "model_id": "c0d1dad7dc2a4a74abc66e90115eadf5",
       "version_major": 2,
       "version_minor": 0
      },
      "text/plain": [
       "Text(value='', placeholder='Company ICO (a number)')"
      ]
     },
     "metadata": {},
     "output_type": "display_data"
    },
    {
     "data": {
      "application/vnd.jupyter.widget-view+json": {
       "model_id": "6b6d2e5f3cd54cc08e676d6a21cc03f5",
       "version_major": 2,
       "version_minor": 0
      },
      "text/plain": [
       "Button(description='Confirm', style=ButtonStyle())"
      ]
     },
     "metadata": {},
     "output_type": "display_data"
    },
    {
     "data": {
      "application/vnd.jupyter.widget-view+json": {
       "model_id": "8e348c31194143369b4c3a31d5c16b56",
       "version_major": 2,
       "version_minor": 0
      },
      "text/plain": [
       "Output()"
      ]
     },
     "metadata": {},
     "output_type": "display_data"
    }
   ],
   "source": [
    "import ipywidgets as widgets\n",
    "from IPython.display import display\n",
    "\n",
    "import pandas as pd\n",
    "from botocore.client import Config\n",
    "import ibm_boto3\n",
    "import numpy as np\n",
    "import requests\n",
    "\n",
    "from bs4 import BeautifulSoup\n",
    "from ipywidgets import widgets\n",
    "\n",
    "display(widgets.HTML(\"<h1>Get Company Name by ICO</h1>\"))\n",
    "\n",
    "def GetName(ICO):\n",
    "    df = pd.read_csv('/project_data/data_asset/ICOdata.csv')\n",
    "    \n",
    "    #XML_elements = ['OF','ICO','DIC','UC','PB','NS']\n",
    "    XML_elements = df.columns\n",
    "    row=dict()\n",
    "    \n",
    "    # api-endpoint \n",
    "    URL = \"https://wwwinfo.mfcr.cz/cgi-bin/ares/darv_bas.cgi\"\n",
    "    PARAMS = {'ico': ICO} \n",
    "\n",
    "    # sending get request and saving the response as response object \n",
    "    response = requests.get(url = URL, params = PARAMS) \n",
    "    response.encoding='utf-8'\n",
    "\n",
    "    soup = BeautifulSoup(response.text, \"lxml-xml\")\n",
    "\n",
    "    for element in XML_elements:\n",
    "        if (element):\n",
    "            anchor = soup.find(element)\n",
    "            if (anchor != None):\n",
    "                print(\"[{}] = {}\".format(element, anchor.text))\n",
    "                row.update({element : [anchor.text]})\n",
    "\n",
    "    newDf = pd.DataFrame.from_dict(row)\n",
    "    df=df.append(newDf)\n",
    "    df.drop_duplicates(subset=['OF'],keep='first', inplace=True)\n",
    "    df.head(20)\n",
    "\n",
    "    #STORE DATA \n",
    "    df.to_csv('/project_data/data_asset/ICOdata.csv', index=False)\n",
    "    \n",
    "    \n",
    "html=widgets.HTML(value=\"<h2>Give me company ICO (e.g. 14890992):</h2>\")\n",
    "\n",
    "text=widgets.Text(\n",
    "    placeholder='Company ICO (a number)',\n",
    "    disabled=False\n",
    ")\n",
    "button=widgets.Button(\n",
    "    description='Confirm'\n",
    ")\n",
    "output = widgets.Output()\n",
    "display(html,text, button, output)\n",
    "\n",
    "def on_button_clicked(b):\n",
    "    with output:\n",
    "        print(\"-------------------------------------------------\")\n",
    "        print(\"Company ICO:\", text.value)\n",
    "        GetName(text.value)\n",
    "\n",
    "button.on_click(on_button_clicked)\n",
    "\n"
   ]
  }
 ],
 "metadata": {
  "kernelspec": {
   "display_name": "Python 3.6",
   "language": "python",
   "name": "python3"
  },
  "language_info": {
   "codemirror_mode": {
    "name": "ipython",
    "version": 3
   },
   "file_extension": ".py",
   "mimetype": "text/x-python",
   "name": "python",
   "nbconvert_exporter": "python",
   "pygments_lexer": "ipython3",
   "version": "3.6.8"
  }
 },
 "nbformat": 4,
 "nbformat_minor": 4
}
